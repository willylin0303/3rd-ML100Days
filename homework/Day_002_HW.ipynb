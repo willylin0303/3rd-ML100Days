{
 "cells": [
  {
   "cell_type": "markdown",
   "metadata": {},
   "source": [
    "## [作業目標]\n",
    "了解機器學習適合應用的領域與範疇。"
   ]
  },
  {
   "cell_type": "markdown",
   "metadata": {},
   "source": [
    "## [作業重點]\n",
    "透過瞭解機器學習的運作方式，找出非常適用機器學習應用的領域及其原因"
   ]
  },
  {
   "cell_type": "markdown",
   "metadata": {},
   "source": [
    "## 作業\n",
    "請找出一個你認為機器學習可以發光發熱的領域並闡述原因? "
   ]
  },
  {
   "cell_type": "markdown",
   "metadata": {},
   "source": [
    "  ## [回答1]\n",
    "\n",
    "我認為「貼身智慧型助理」會是機器學習可以發光發熱的領域。\n",
    "我們常在電影中看到許多幫助人們處理隨身大小事的智慧型助理，而我們所知道最有名的大概就是出現在鋼鐵人以及復仇者聯盟電影中，由鋼鐵人所設計的的JARVIS。JARVIS只要透過鋼鐵人所下達的命令就可以智慧地處理各項事務，例如打電話給小辣椒、幫忙旅行規劃、或是立馬查詢當地的即時新聞以發現動亂的來源，而儘管許多功能在現今的社會中已經是可以做到的，但是仍然有許多的功能對現在的科技來說還有一段距離。就以語音辨識來說好了，現在各家廠牌的智慧型手機都有各自的智慧型助理，以APPLE的siri來說，儘管siri已經算是很厲害的智慧型助理之一，但是在很多情況下他的辨識率還是不高，導致出現他所辨識的跟使用者所講的指令出現差距的情況存在，因此，這就是一個機器學習之後可以改善的部分。而JARVIS身為我們理想中的貼身智慧型助理的藍圖，我認為他會是機器學習所可以發光發熱的領域，把舉凡像是語音辨識、自動規劃、聊天機器人等的功能結合在一起並將他們集大成為一個專屬於人類的助理，那將會是多麽美好的一件事啊！"
   ]
  },
  {
   "cell_type": "code",
   "execution_count": null,
   "metadata": {
    "collapsed": true
   },
   "outputs": [],
   "source": []
  }
 ],
 "metadata": {
  "kernelspec": {
   "display_name": "Python [default]",
   "language": "python",
   "name": "python3"
  },
  "language_info": {
   "codemirror_mode": {
    "name": "ipython",
    "version": 3
   },
   "file_extension": ".py",
   "mimetype": "text/x-python",
   "name": "python",
   "nbconvert_exporter": "python",
   "pygments_lexer": "ipython3",
   "version": "3.5.6"
  },
  "varInspector": {
   "cols": {
    "lenName": 16,
    "lenType": 16,
    "lenVar": 40
   },
   "kernels_config": {
    "python": {
     "delete_cmd_postfix": "",
     "delete_cmd_prefix": "del ",
     "library": "var_list.py",
     "varRefreshCmd": "print(var_dic_list())"
    },
    "r": {
     "delete_cmd_postfix": ") ",
     "delete_cmd_prefix": "rm(",
     "library": "var_list.r",
     "varRefreshCmd": "cat(var_dic_list()) "
    }
   },
   "types_to_exclude": [
    "module",
    "function",
    "builtin_function_or_method",
    "instance",
    "_Feature"
   ],
   "window_display": false
  }
 },
 "nbformat": 4,
 "nbformat_minor": 2
}
